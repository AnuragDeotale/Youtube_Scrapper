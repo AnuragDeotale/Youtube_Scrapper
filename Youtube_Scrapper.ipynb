{
 "cells": [
  {
   "cell_type": "code",
   "execution_count": 1,
   "id": "77b13b83-f9b2-461c-91e8-345fc85221f0",
   "metadata": {},
   "outputs": [],
   "source": [
    "# Importing necessary libraries\n",
    "from bs4 import BeautifulSoup  # For parsing HTML content\n",
    "from selenium import webdriver # For automating web browser interaction\n",
    "\n",
    "# Setting up the web driver for Chrome browser\n",
    "browser=webdriver.Chrome()"
   ]
  },
  {
   "cell_type": "code",
   "execution_count": 3,
   "id": "2fd548e5-3ebd-494c-b368-712815f8c555",
   "metadata": {},
   "outputs": [],
   "source": [
    "# Open the target Youtube Channels videos page\n",
    "browser.get(\"https://www.youtube.com/@GeeksforGeeksVideos/videos\")"
   ]
  },
  {
   "cell_type": "code",
   "execution_count": 5,
   "id": "e56bc231-4ad6-4300-acd1-a18df48c4afe",
   "metadata": {},
   "outputs": [],
   "source": [
    "# Parse the page source with BeautifulSoup\n",
    "soup=BeautifulSoup(browser.page_source,'html.parser')"
   ]
  },
  {
   "cell_type": "code",
   "execution_count": 74,
   "id": "fc122b2d-3a7b-4ce0-85f4-0f2e348a3726",
   "metadata": {},
   "outputs": [],
   "source": [
    "# Find the main container for videos\n",
    "sp=soup.find('ytd-rich-grid-renderer')"
   ]
  },
  {
   "cell_type": "code",
   "execution_count": 82,
   "id": "1dd0a3eb-1e08-4f22-ac18-b752d71a5bc9",
   "metadata": {},
   "outputs": [],
   "source": [
    "# Extract individual video elements\n",
    "xp=sp.find_all('ytd-rich-item-renderer')"
   ]
  },
  {
   "cell_type": "code",
   "execution_count": 104,
   "id": "d3871886-967a-4e15-8d93-5e417d5ea126",
   "metadata": {},
   "outputs": [],
   "source": [
    "# Initialize a list to store video data\n",
    "data=[]\n",
    "\n",
    "# Loop through each video element to extract relevant details\n",
    "for xp in sp.find_all('ytd-rich-item-renderer'):\n",
    "\n",
    "    # Extracting video title\n",
    "    title=xp.find('a',class_='yt-simple-endpoint focus-on-expand style-scope ytd-rich-grid-media').text\n",
    "    # Extracting video link\n",
    "    video_link=\"https://www.youtube.com/\"+xp.find('a',class_='yt-simple-endpoint focus-on-expand style-scope ytd-rich-grid-media').get('href')\n",
    "\n",
    "    # Extracting video duration\n",
    "    duration=xp.find_all('span')[0].text.replace(\"\\n\",\"\").strip()\n",
    "\n",
    "    # Extracting video views\n",
    "    views=xp.find_all('span')[5].text\n",
    "\n",
    "    # Extracting video upload_time\n",
    "    upload_time=xp.find_all('span')[6].text\n",
    "\n",
    "    # Extracting video tumbnail link\n",
    "    tumbnail_link=sp.find('img').get('src').split('?')[0]\n",
    "\n",
    "    # Appending Extracted Data to a List\n",
    "    data.append([title,video_link,duration,views,upload_time,tumbnail_link])\n",
    "    \n"
   ]
  },
  {
   "cell_type": "code",
   "execution_count": 106,
   "id": "c105672f-58d6-4fbc-937b-20fad717ed9d",
   "metadata": {},
   "outputs": [
    {
     "data": {
      "text/plain": [
       "1981"
      ]
     },
     "execution_count": 106,
     "metadata": {},
     "output_type": "execute_result"
    }
   ],
   "source": [
    "# Verifying extracted data as a list\n",
    "len(data)"
   ]
  },
  {
   "cell_type": "code",
   "execution_count": 108,
   "id": "3cb873d6-5fa8-44b8-ba8e-54d7656ec52e",
   "metadata": {},
   "outputs": [],
   "source": [
    "# Storing Extracted data as a list\n",
    "import pandas as pd\n",
    "df=pd.DataFrame(data,columns=['title','video_link','duration','views','upload_time','tumbnail_link'])"
   ]
  },
  {
   "cell_type": "code",
   "execution_count": 110,
   "id": "df0ff524-3e41-4c28-8eef-670486523ada",
   "metadata": {},
   "outputs": [
    {
     "data": {
      "text/html": [
       "<div>\n",
       "<style scoped>\n",
       "    .dataframe tbody tr th:only-of-type {\n",
       "        vertical-align: middle;\n",
       "    }\n",
       "\n",
       "    .dataframe tbody tr th {\n",
       "        vertical-align: top;\n",
       "    }\n",
       "\n",
       "    .dataframe thead th {\n",
       "        text-align: right;\n",
       "    }\n",
       "</style>\n",
       "<table border=\"1\" class=\"dataframe\">\n",
       "  <thead>\n",
       "    <tr style=\"text-align: right;\">\n",
       "      <th></th>\n",
       "      <th>title</th>\n",
       "      <th>video_link</th>\n",
       "      <th>duration</th>\n",
       "      <th>views</th>\n",
       "      <th>upload_time</th>\n",
       "      <th>tumbnail_link</th>\n",
       "    </tr>\n",
       "  </thead>\n",
       "  <tbody>\n",
       "    <tr>\n",
       "      <th>0</th>\n",
       "      <td>What is Machine Learning? | Lecture 1 | Free V...</td>\n",
       "      <td>https://www.youtube.com//watch?v=1PtHLVsG_8s</td>\n",
       "      <td>10:46</td>\n",
       "      <td>452 views</td>\n",
       "      <td>1 day ago</td>\n",
       "      <td>https://i.ytimg.com/vi/1PtHLVsG_8s/hqdefault.jpg</td>\n",
       "    </tr>\n",
       "    <tr>\n",
       "      <th>1</th>\n",
       "      <td>A Day in the Life at IIT: Struggles &amp; Successe...</td>\n",
       "      <td>https://www.youtube.com//watch?v=Ioj_XA-_jIY</td>\n",
       "      <td>8:06</td>\n",
       "      <td>1.6K views</td>\n",
       "      <td>2 days ago</td>\n",
       "      <td>https://i.ytimg.com/vi/1PtHLVsG_8s/hqdefault.jpg</td>\n",
       "    </tr>\n",
       "    <tr>\n",
       "      <th>2</th>\n",
       "      <td>DSA was hard until i learned these 10 Patterns...</td>\n",
       "      <td>https://www.youtube.com//watch?v=aWjFPloGYmg</td>\n",
       "      <td>6:32</td>\n",
       "      <td>5.1K views</td>\n",
       "      <td>4 days ago</td>\n",
       "      <td>https://i.ytimg.com/vi/1PtHLVsG_8s/hqdefault.jpg</td>\n",
       "    </tr>\n",
       "    <tr>\n",
       "      <th>3</th>\n",
       "      <td>You're missing out by not starting the Three 9...</td>\n",
       "      <td>https://www.youtube.com//watch?v=Tcmo0fSCAJQ</td>\n",
       "      <td>0:32</td>\n",
       "      <td>265K views</td>\n",
       "      <td>8 days ago</td>\n",
       "      <td>https://i.ytimg.com/vi/1PtHLVsG_8s/hqdefault.jpg</td>\n",
       "    </tr>\n",
       "    <tr>\n",
       "      <th>4</th>\n",
       "      <td>Which Programming Language should you learn in...</td>\n",
       "      <td>https://www.youtube.com//watch?v=qduULN56XGk</td>\n",
       "      <td>8:37</td>\n",
       "      <td>1.5K views</td>\n",
       "      <td>9 days ago</td>\n",
       "      <td>https://i.ytimg.com/vi/1PtHLVsG_8s/hqdefault.jpg</td>\n",
       "    </tr>\n",
       "    <tr>\n",
       "      <th>...</th>\n",
       "      <td>...</td>\n",
       "      <td>...</td>\n",
       "      <td>...</td>\n",
       "      <td>...</td>\n",
       "      <td>...</td>\n",
       "      <td>...</td>\n",
       "    </tr>\n",
       "    <tr>\n",
       "      <th>1976</th>\n",
       "      <td>Length of shortest chain to reach a target wor...</td>\n",
       "      <td>https://www.youtube.com//watch?v=6pIC20wCm20</td>\n",
       "      <td>12:25</td>\n",
       "      <td>44K views</td>\n",
       "      <td>8 years ago</td>\n",
       "      <td>https://i.ytimg.com/vi/1PtHLVsG_8s/hqdefault.jpg</td>\n",
       "    </tr>\n",
       "    <tr>\n",
       "      <th>1977</th>\n",
       "      <td>Binary Search | GeeksQuiz</td>\n",
       "      <td>https://www.youtube.com//watch?v=T2sFYY-fT5o</td>\n",
       "      <td>7:33</td>\n",
       "      <td>192K views</td>\n",
       "      <td>8 years ago</td>\n",
       "      <td>https://i.ytimg.com/vi/1PtHLVsG_8s/hqdefault.jpg</td>\n",
       "    </tr>\n",
       "    <tr>\n",
       "      <th>1978</th>\n",
       "      <td>Number of Triangles in an Undirected Graph | G...</td>\n",
       "      <td>https://www.youtube.com//watch?v=ChdNz1Ui1uc</td>\n",
       "      <td>8:44</td>\n",
       "      <td>Now playing</td>\n",
       "      <td></td>\n",
       "      <td>https://i.ytimg.com/vi/1PtHLVsG_8s/hqdefault.jpg</td>\n",
       "    </tr>\n",
       "    <tr>\n",
       "      <th>1979</th>\n",
       "      <td>Write a program to print all permutations of a...</td>\n",
       "      <td>https://www.youtube.com//watch?v=AfxHGNRtFac</td>\n",
       "      <td>11:52</td>\n",
       "      <td>491K views</td>\n",
       "      <td>9 years ago</td>\n",
       "      <td>https://i.ytimg.com/vi/1PtHLVsG_8s/hqdefault.jpg</td>\n",
       "    </tr>\n",
       "    <tr>\n",
       "      <th>1980</th>\n",
       "      <td>Longest Span with same Sum in two Binary array...</td>\n",
       "      <td>https://www.youtube.com//watch?v=xtfj4-r_Ahs</td>\n",
       "      <td>20:26</td>\n",
       "      <td>307K views</td>\n",
       "      <td>9 years ago</td>\n",
       "      <td>https://i.ytimg.com/vi/1PtHLVsG_8s/hqdefault.jpg</td>\n",
       "    </tr>\n",
       "  </tbody>\n",
       "</table>\n",
       "<p>1981 rows × 6 columns</p>\n",
       "</div>"
      ],
      "text/plain": [
       "                                                  title  \\\n",
       "0     What is Machine Learning? | Lecture 1 | Free V...   \n",
       "1     A Day in the Life at IIT: Struggles & Successe...   \n",
       "2     DSA was hard until i learned these 10 Patterns...   \n",
       "3     You're missing out by not starting the Three 9...   \n",
       "4     Which Programming Language should you learn in...   \n",
       "...                                                 ...   \n",
       "1976  Length of shortest chain to reach a target wor...   \n",
       "1977                          Binary Search | GeeksQuiz   \n",
       "1978  Number of Triangles in an Undirected Graph | G...   \n",
       "1979  Write a program to print all permutations of a...   \n",
       "1980  Longest Span with same Sum in two Binary array...   \n",
       "\n",
       "                                        video_link duration        views  \\\n",
       "0     https://www.youtube.com//watch?v=1PtHLVsG_8s    10:46    452 views   \n",
       "1     https://www.youtube.com//watch?v=Ioj_XA-_jIY     8:06   1.6K views   \n",
       "2     https://www.youtube.com//watch?v=aWjFPloGYmg     6:32   5.1K views   \n",
       "3     https://www.youtube.com//watch?v=Tcmo0fSCAJQ     0:32   265K views   \n",
       "4     https://www.youtube.com//watch?v=qduULN56XGk     8:37   1.5K views   \n",
       "...                                            ...      ...          ...   \n",
       "1976  https://www.youtube.com//watch?v=6pIC20wCm20    12:25    44K views   \n",
       "1977  https://www.youtube.com//watch?v=T2sFYY-fT5o     7:33   192K views   \n",
       "1978  https://www.youtube.com//watch?v=ChdNz1Ui1uc     8:44  Now playing   \n",
       "1979  https://www.youtube.com//watch?v=AfxHGNRtFac    11:52   491K views   \n",
       "1980  https://www.youtube.com//watch?v=xtfj4-r_Ahs    20:26   307K views   \n",
       "\n",
       "      upload_time                                     tumbnail_link  \n",
       "0       1 day ago  https://i.ytimg.com/vi/1PtHLVsG_8s/hqdefault.jpg  \n",
       "1      2 days ago  https://i.ytimg.com/vi/1PtHLVsG_8s/hqdefault.jpg  \n",
       "2      4 days ago  https://i.ytimg.com/vi/1PtHLVsG_8s/hqdefault.jpg  \n",
       "3      8 days ago  https://i.ytimg.com/vi/1PtHLVsG_8s/hqdefault.jpg  \n",
       "4      9 days ago  https://i.ytimg.com/vi/1PtHLVsG_8s/hqdefault.jpg  \n",
       "...           ...                                               ...  \n",
       "1976  8 years ago  https://i.ytimg.com/vi/1PtHLVsG_8s/hqdefault.jpg  \n",
       "1977  8 years ago  https://i.ytimg.com/vi/1PtHLVsG_8s/hqdefault.jpg  \n",
       "1978               https://i.ytimg.com/vi/1PtHLVsG_8s/hqdefault.jpg  \n",
       "1979  9 years ago  https://i.ytimg.com/vi/1PtHLVsG_8s/hqdefault.jpg  \n",
       "1980  9 years ago  https://i.ytimg.com/vi/1PtHLVsG_8s/hqdefault.jpg  \n",
       "\n",
       "[1981 rows x 6 columns]"
      ]
     },
     "execution_count": 110,
     "metadata": {},
     "output_type": "execute_result"
    }
   ],
   "source": [
    "df"
   ]
  },
  {
   "cell_type": "code",
   "execution_count": 112,
   "id": "43099efd-3171-4906-a659-093f895095ec",
   "metadata": {},
   "outputs": [
    {
     "data": {
      "text/plain": [
       "title            0\n",
       "video_link       0\n",
       "duration         0\n",
       "views            0\n",
       "upload_time      0\n",
       "tumbnail_link    0\n",
       "dtype: int64"
      ]
     },
     "execution_count": 112,
     "metadata": {},
     "output_type": "execute_result"
    }
   ],
   "source": [
    "# Check for null values ina DataFrame\n",
    "df.isnull().sum()"
   ]
  },
  {
   "cell_type": "code",
   "execution_count": 114,
   "id": "ae8b70cd-fe32-4103-9ff1-0d1248e0c499",
   "metadata": {},
   "outputs": [],
   "source": [
    "# Exporting data to a CSV File\n",
    "df.to_csv('Youtube_Scrapper.csv')"
   ]
  },
  {
   "cell_type": "code",
   "execution_count": 547,
   "id": "9bf94df5-fc71-4b2b-a3a4-0b3518858746",
   "metadata": {},
   "outputs": [],
   "source": [
    "# Extracting detailed data for each video by visiting individual links\n",
    "import time\n",
    "import numpy as np"
   ]
  },
  {
   "cell_type": "code",
   "execution_count": 549,
   "id": "281cdee0-284e-40a3-8c64-8687be69bf40",
   "metadata": {},
   "outputs": [],
   "source": [
    "# Reinitializing Web Driver\n",
    "browser=webdriver.Chrome()\n",
    "\n",
    "\n",
    "browser.get('https://www.youtube.com/@GeeksforGeeksVideos/videos')  # Opening Youtube Page of GFG\n",
    "time.sleep(2) # Wait for the page to load\n",
    "data=[]\n",
    "\n",
    "# Looping through each video link to extract additional details\n",
    "for link in df['video_link']:\n",
    "    browser.get(link)  # Open the video link\n",
    "\n",
    "    time.sleep(5)     # Wait for the page to load\n",
    "\n",
    "    \n",
    "    # Parse the video page\n",
    "    soup=BeautifulSoup(browser.page_source,'html.parser')\n",
    "\n",
    "    # Extracting additional details with error handling\n",
    "    try:\n",
    "       title=soup.find('yt-formatted-string',class_='style-scope ytd-watch-metadata').text\n",
    "    except:\n",
    "        title=np.nan\n",
    "    try:\n",
    "       view=soup.find('span',class_='bold style-scope yt-formatted-string').text\n",
    "    except:\n",
    "        view=np.nan\n",
    "    try:\n",
    "       upload_date=(soup.find_all('span',class_='bold style-scope yt-formatted-string'))[2].text\n",
    "    except:\n",
    "        upload_date=np.nan\n",
    "    try:       \n",
    "       like=soup.find_all(class_='yt-spec-button-shape-next__button-text-content')[10].text\n",
    "    except:\n",
    "        like=np.nan\n",
    "    try:\n",
    "      description=soup.find(class_='yt-core-attributed-string--link-inherit-color').text\n",
    "    except:\n",
    "       description=np.nan\n",
    "\n",
    "     # Appending extracted details\n",
    "    data.append([title,view,upload_date,like,description])\n",
    "    \n"
   ]
  },
  {
   "cell_type": "code",
   "execution_count": 551,
   "id": "947302b7-079a-4967-a87b-84c011805d46",
   "metadata": {},
   "outputs": [],
   "source": [
    "# Create a DataFrame with the detailed data\n",
    "df=pd.DataFrame(data,columns=['title','view','upload_date','like','description'])"
   ]
  },
  {
   "cell_type": "code",
   "execution_count": 553,
   "id": "f8c99edf-56d7-417c-8ee5-402ecfa1892c",
   "metadata": {},
   "outputs": [
    {
     "data": {
      "text/html": [
       "<div>\n",
       "<style scoped>\n",
       "    .dataframe tbody tr th:only-of-type {\n",
       "        vertical-align: middle;\n",
       "    }\n",
       "\n",
       "    .dataframe tbody tr th {\n",
       "        vertical-align: top;\n",
       "    }\n",
       "\n",
       "    .dataframe thead th {\n",
       "        text-align: right;\n",
       "    }\n",
       "</style>\n",
       "<table border=\"1\" class=\"dataframe\">\n",
       "  <thead>\n",
       "    <tr style=\"text-align: right;\">\n",
       "      <th></th>\n",
       "      <th>title</th>\n",
       "      <th>view</th>\n",
       "      <th>upload_date</th>\n",
       "      <th>like</th>\n",
       "      <th>description</th>\n",
       "    </tr>\n",
       "  </thead>\n",
       "  <tbody>\n",
       "    <tr>\n",
       "      <th>0</th>\n",
       "      <td>What is Machine Learning? | Lecture 1 | Free V...</td>\n",
       "      <td>453 views</td>\n",
       "      <td>1 day ago</td>\n",
       "      <td>About</td>\n",
       "      <td>Welcome to the first video of GeeksforGeeks' c...</td>\n",
       "    </tr>\n",
       "    <tr>\n",
       "      <th>1</th>\n",
       "      <td>A Day in the Life at IIT: Struggles &amp; Successe...</td>\n",
       "      <td>1.6K views</td>\n",
       "      <td>2 days ago</td>\n",
       "      <td>About</td>\n",
       "      <td>Watch Full Video: -</td>\n",
       "    </tr>\n",
       "    <tr>\n",
       "      <th>2</th>\n",
       "      <td>DSA was hard until i learned these 10 Patterns...</td>\n",
       "      <td>5.3K views</td>\n",
       "      <td>4 days ago</td>\n",
       "      <td>Videos</td>\n",
       "      <td>These 10 Patterns Are All You Need to Solve DS...</td>\n",
       "    </tr>\n",
       "    <tr>\n",
       "      <th>3</th>\n",
       "      <td>You're missing out by not starting the Three 9...</td>\n",
       "      <td>265K views</td>\n",
       "      <td>8 days ago</td>\n",
       "      <td>About</td>\n",
       "      <td>The best version of you is just 90 days away💪\\...</td>\n",
       "    </tr>\n",
       "    <tr>\n",
       "      <th>4</th>\n",
       "      <td>Which Programming Language should you learn in...</td>\n",
       "      <td>1.5K views</td>\n",
       "      <td>9 days ago</td>\n",
       "      <td>Videos</td>\n",
       "      <td>Start the challenge now:</td>\n",
       "    </tr>\n",
       "    <tr>\n",
       "      <th>...</th>\n",
       "      <td>...</td>\n",
       "      <td>...</td>\n",
       "      <td>...</td>\n",
       "      <td>...</td>\n",
       "      <td>...</td>\n",
       "    </tr>\n",
       "    <tr>\n",
       "      <th>1976</th>\n",
       "      <td>Length of shortest chain to reach a target wor...</td>\n",
       "      <td>44K views</td>\n",
       "      <td>8 years ago</td>\n",
       "      <td>About</td>\n",
       "      <td>Explanation for the article:</td>\n",
       "    </tr>\n",
       "    <tr>\n",
       "      <th>1977</th>\n",
       "      <td>Binary Search | GeeksQuiz</td>\n",
       "      <td>192K views</td>\n",
       "      <td>8 years ago</td>\n",
       "      <td>About</td>\n",
       "      <td>Explanation for the article:</td>\n",
       "    </tr>\n",
       "    <tr>\n",
       "      <th>1978</th>\n",
       "      <td>Number of Triangles in an Undirected Graph | G...</td>\n",
       "      <td>19K views</td>\n",
       "      <td>8 years ago</td>\n",
       "      <td>Videos</td>\n",
       "      <td>Explanation for the article:</td>\n",
       "    </tr>\n",
       "    <tr>\n",
       "      <th>1979</th>\n",
       "      <td>Write a program to print all permutations of a...</td>\n",
       "      <td>491K views</td>\n",
       "      <td>9 years ago</td>\n",
       "      <td>About</td>\n",
       "      <td>Explanation for the Article:</td>\n",
       "    </tr>\n",
       "    <tr>\n",
       "      <th>1980</th>\n",
       "      <td>Longest Span with same Sum in two Binary array...</td>\n",
       "      <td>307K views</td>\n",
       "      <td>9 years ago</td>\n",
       "      <td>About</td>\n",
       "      <td>Here's you next clue  - Our comprehensive guid...</td>\n",
       "    </tr>\n",
       "  </tbody>\n",
       "</table>\n",
       "<p>1981 rows × 5 columns</p>\n",
       "</div>"
      ],
      "text/plain": [
       "                                                  title        view  \\\n",
       "0     What is Machine Learning? | Lecture 1 | Free V...   453 views   \n",
       "1     A Day in the Life at IIT: Struggles & Successe...  1.6K views   \n",
       "2     DSA was hard until i learned these 10 Patterns...  5.3K views   \n",
       "3     You're missing out by not starting the Three 9...  265K views   \n",
       "4     Which Programming Language should you learn in...  1.5K views   \n",
       "...                                                 ...         ...   \n",
       "1976  Length of shortest chain to reach a target wor...   44K views   \n",
       "1977                          Binary Search | GeeksQuiz  192K views   \n",
       "1978  Number of Triangles in an Undirected Graph | G...   19K views   \n",
       "1979  Write a program to print all permutations of a...  491K views   \n",
       "1980  Longest Span with same Sum in two Binary array...  307K views   \n",
       "\n",
       "      upload_date    like                                        description  \n",
       "0       1 day ago   About  Welcome to the first video of GeeksforGeeks' c...  \n",
       "1      2 days ago   About                               Watch Full Video: -   \n",
       "2      4 days ago  Videos  These 10 Patterns Are All You Need to Solve DS...  \n",
       "3      8 days ago   About  The best version of you is just 90 days away💪\\...  \n",
       "4      9 days ago  Videos                          Start the challenge now:   \n",
       "...           ...     ...                                                ...  \n",
       "1976  8 years ago   About                      Explanation for the article:   \n",
       "1977  8 years ago   About                      Explanation for the article:   \n",
       "1978  8 years ago  Videos                      Explanation for the article:   \n",
       "1979  9 years ago   About                      Explanation for the Article:   \n",
       "1980  9 years ago   About  Here's you next clue  - Our comprehensive guid...  \n",
       "\n",
       "[1981 rows x 5 columns]"
      ]
     },
     "execution_count": 553,
     "metadata": {},
     "output_type": "execute_result"
    }
   ],
   "source": [
    "# Display the detailed DataFrame\n",
    "df"
   ]
  },
  {
   "cell_type": "code",
   "execution_count": 555,
   "id": "2adb5d47-dc37-4f23-a378-1bba1126ce89",
   "metadata": {},
   "outputs": [
    {
     "data": {
      "text/plain": [
       "title          119\n",
       "view           119\n",
       "upload_date    119\n",
       "like           119\n",
       "description    118\n",
       "dtype: int64"
      ]
     },
     "execution_count": 555,
     "metadata": {},
     "output_type": "execute_result"
    }
   ],
   "source": [
    "# Check for null values in the detailed DataFrame\n",
    "df.isnull().sum()"
   ]
  },
  {
   "cell_type": "code",
   "execution_count": 557,
   "id": "ef94bf44-19a1-470b-977c-e4cc21ce0d9a",
   "metadata": {},
   "outputs": [
    {
     "data": {
      "text/plain": [
       "1981"
      ]
     },
     "execution_count": 557,
     "metadata": {},
     "output_type": "execute_result"
    }
   ],
   "source": [
    "# Checking length of Data\n",
    "len(data)"
   ]
  },
  {
   "cell_type": "code",
   "execution_count": 559,
   "id": "c89b6070-dd1f-4371-b9f5-70162511d306",
   "metadata": {},
   "outputs": [],
   "source": [
    "# Exporting the detailed data to a CSV file\n",
    "df.to_csv(\"Video_Description.csv\")"
   ]
  },
  {
   "cell_type": "code",
   "execution_count": null,
   "id": "eff9969d-5ba0-466b-8db2-f8d5fda8adf6",
   "metadata": {},
   "outputs": [],
   "source": []
  }
 ],
 "metadata": {
  "kernelspec": {
   "display_name": "Python 3 (ipykernel)",
   "language": "python",
   "name": "python3"
  },
  "language_info": {
   "codemirror_mode": {
    "name": "ipython",
    "version": 3
   },
   "file_extension": ".py",
   "mimetype": "text/x-python",
   "name": "python",
   "nbconvert_exporter": "python",
   "pygments_lexer": "ipython3",
   "version": "3.12.4"
  }
 },
 "nbformat": 4,
 "nbformat_minor": 5
}
